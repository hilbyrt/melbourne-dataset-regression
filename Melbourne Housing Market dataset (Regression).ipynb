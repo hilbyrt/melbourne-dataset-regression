{
 "cells": [
  {
   "cell_type": "code",
   "execution_count": 1,
   "metadata": {},
   "outputs": [],
   "source": [
    "import numpy as np\n",
    "import pandas as pd\n",
    "import matplotlib.pyplot as plt\n",
    "import seaborn as sns\n",
    "from random import choices\n",
    "from sklearn.metrics import accuracy_score, mean_absolute_error, mean_squared_error, r2_score\n",
    "from sklearn.ensemble import RandomForestRegressor\n",
    "from sklearn.model_selection import train_test_split\n",
    "from sklearn.linear_model import LassoLars as Lasso\n",
    "\n",
    "%matplotlib inline"
   ]
  },
  {
   "cell_type": "markdown",
   "metadata": {},
   "source": [
    "### First glance at the data"
   ]
  },
  {
   "cell_type": "code",
   "execution_count": 2,
   "metadata": {},
   "outputs": [
    {
     "name": "stdout",
     "output_type": "stream",
     "text": [
      "<class 'pandas.core.frame.DataFrame'>\n",
      "Int64Index: 18396 entries, 1 to 23546\n",
      "Data columns (total 21 columns):\n",
      "Suburb           18396 non-null object\n",
      "Address          18396 non-null object\n",
      "Rooms            18396 non-null int64\n",
      "Type             18396 non-null object\n",
      "Price            18396 non-null float64\n",
      "Method           18396 non-null object\n",
      "SellerG          18396 non-null object\n",
      "Date             18396 non-null object\n",
      "Distance         18395 non-null float64\n",
      "Postcode         18395 non-null float64\n",
      "Bedroom2         14927 non-null float64\n",
      "Bathroom         14925 non-null float64\n",
      "Car              14820 non-null float64\n",
      "Landsize         13603 non-null float64\n",
      "BuildingArea     7762 non-null float64\n",
      "YearBuilt        8958 non-null float64\n",
      "CouncilArea      12233 non-null object\n",
      "Lattitude        15064 non-null float64\n",
      "Longtitude       15064 non-null float64\n",
      "Regionname       18395 non-null object\n",
      "Propertycount    18395 non-null float64\n",
      "dtypes: float64(12), int64(1), object(8)\n",
      "memory usage: 3.1+ MB\n"
     ]
    }
   ],
   "source": [
    "df = pd.read_csv('data/melburn_data.csv', index_col='Unnamed: 0')\n",
    "df.info()"
   ]
  },
  {
   "cell_type": "code",
   "execution_count": 3,
   "metadata": {},
   "outputs": [
    {
     "data": {
      "text/html": [
       "<div>\n",
       "<style scoped>\n",
       "    .dataframe tbody tr th:only-of-type {\n",
       "        vertical-align: middle;\n",
       "    }\n",
       "\n",
       "    .dataframe tbody tr th {\n",
       "        vertical-align: top;\n",
       "    }\n",
       "\n",
       "    .dataframe thead th {\n",
       "        text-align: right;\n",
       "    }\n",
       "</style>\n",
       "<table border=\"1\" class=\"dataframe\">\n",
       "  <thead>\n",
       "    <tr style=\"text-align: right;\">\n",
       "      <th></th>\n",
       "      <th>Suburb</th>\n",
       "      <th>Address</th>\n",
       "      <th>Rooms</th>\n",
       "      <th>Type</th>\n",
       "      <th>Price</th>\n",
       "      <th>Method</th>\n",
       "      <th>SellerG</th>\n",
       "      <th>Date</th>\n",
       "      <th>Distance</th>\n",
       "      <th>Postcode</th>\n",
       "      <th>...</th>\n",
       "      <th>Bathroom</th>\n",
       "      <th>Car</th>\n",
       "      <th>Landsize</th>\n",
       "      <th>BuildingArea</th>\n",
       "      <th>YearBuilt</th>\n",
       "      <th>CouncilArea</th>\n",
       "      <th>Lattitude</th>\n",
       "      <th>Longtitude</th>\n",
       "      <th>Regionname</th>\n",
       "      <th>Propertycount</th>\n",
       "    </tr>\n",
       "  </thead>\n",
       "  <tbody>\n",
       "    <tr>\n",
       "      <th>1</th>\n",
       "      <td>Abbotsford</td>\n",
       "      <td>85 Turner St</td>\n",
       "      <td>2</td>\n",
       "      <td>h</td>\n",
       "      <td>1480000.0</td>\n",
       "      <td>S</td>\n",
       "      <td>Biggin</td>\n",
       "      <td>3/12/2016</td>\n",
       "      <td>2.5</td>\n",
       "      <td>3067.0</td>\n",
       "      <td>...</td>\n",
       "      <td>1.0</td>\n",
       "      <td>1.0</td>\n",
       "      <td>202.0</td>\n",
       "      <td>NaN</td>\n",
       "      <td>NaN</td>\n",
       "      <td>Yarra</td>\n",
       "      <td>-37.7996</td>\n",
       "      <td>144.9984</td>\n",
       "      <td>Northern Metropolitan</td>\n",
       "      <td>4019.0</td>\n",
       "    </tr>\n",
       "    <tr>\n",
       "      <th>2</th>\n",
       "      <td>Abbotsford</td>\n",
       "      <td>25 Bloomburg St</td>\n",
       "      <td>2</td>\n",
       "      <td>h</td>\n",
       "      <td>1035000.0</td>\n",
       "      <td>S</td>\n",
       "      <td>Biggin</td>\n",
       "      <td>4/02/2016</td>\n",
       "      <td>2.5</td>\n",
       "      <td>3067.0</td>\n",
       "      <td>...</td>\n",
       "      <td>1.0</td>\n",
       "      <td>0.0</td>\n",
       "      <td>156.0</td>\n",
       "      <td>79.0</td>\n",
       "      <td>1900.0</td>\n",
       "      <td>Yarra</td>\n",
       "      <td>-37.8079</td>\n",
       "      <td>144.9934</td>\n",
       "      <td>Northern Metropolitan</td>\n",
       "      <td>4019.0</td>\n",
       "    </tr>\n",
       "    <tr>\n",
       "      <th>4</th>\n",
       "      <td>Abbotsford</td>\n",
       "      <td>5 Charles St</td>\n",
       "      <td>3</td>\n",
       "      <td>h</td>\n",
       "      <td>1465000.0</td>\n",
       "      <td>SP</td>\n",
       "      <td>Biggin</td>\n",
       "      <td>4/03/2017</td>\n",
       "      <td>2.5</td>\n",
       "      <td>3067.0</td>\n",
       "      <td>...</td>\n",
       "      <td>2.0</td>\n",
       "      <td>0.0</td>\n",
       "      <td>134.0</td>\n",
       "      <td>150.0</td>\n",
       "      <td>1900.0</td>\n",
       "      <td>Yarra</td>\n",
       "      <td>-37.8093</td>\n",
       "      <td>144.9944</td>\n",
       "      <td>Northern Metropolitan</td>\n",
       "      <td>4019.0</td>\n",
       "    </tr>\n",
       "    <tr>\n",
       "      <th>5</th>\n",
       "      <td>Abbotsford</td>\n",
       "      <td>40 Federation La</td>\n",
       "      <td>3</td>\n",
       "      <td>h</td>\n",
       "      <td>850000.0</td>\n",
       "      <td>PI</td>\n",
       "      <td>Biggin</td>\n",
       "      <td>4/03/2017</td>\n",
       "      <td>2.5</td>\n",
       "      <td>3067.0</td>\n",
       "      <td>...</td>\n",
       "      <td>2.0</td>\n",
       "      <td>1.0</td>\n",
       "      <td>94.0</td>\n",
       "      <td>NaN</td>\n",
       "      <td>NaN</td>\n",
       "      <td>Yarra</td>\n",
       "      <td>-37.7969</td>\n",
       "      <td>144.9969</td>\n",
       "      <td>Northern Metropolitan</td>\n",
       "      <td>4019.0</td>\n",
       "    </tr>\n",
       "    <tr>\n",
       "      <th>6</th>\n",
       "      <td>Abbotsford</td>\n",
       "      <td>55a Park St</td>\n",
       "      <td>4</td>\n",
       "      <td>h</td>\n",
       "      <td>1600000.0</td>\n",
       "      <td>VB</td>\n",
       "      <td>Nelson</td>\n",
       "      <td>4/06/2016</td>\n",
       "      <td>2.5</td>\n",
       "      <td>3067.0</td>\n",
       "      <td>...</td>\n",
       "      <td>1.0</td>\n",
       "      <td>2.0</td>\n",
       "      <td>120.0</td>\n",
       "      <td>142.0</td>\n",
       "      <td>2014.0</td>\n",
       "      <td>Yarra</td>\n",
       "      <td>-37.8072</td>\n",
       "      <td>144.9941</td>\n",
       "      <td>Northern Metropolitan</td>\n",
       "      <td>4019.0</td>\n",
       "    </tr>\n",
       "  </tbody>\n",
       "</table>\n",
       "<p>5 rows × 21 columns</p>\n",
       "</div>"
      ],
      "text/plain": [
       "       Suburb           Address  Rooms Type      Price Method SellerG  \\\n",
       "1  Abbotsford      85 Turner St      2    h  1480000.0      S  Biggin   \n",
       "2  Abbotsford   25 Bloomburg St      2    h  1035000.0      S  Biggin   \n",
       "4  Abbotsford      5 Charles St      3    h  1465000.0     SP  Biggin   \n",
       "5  Abbotsford  40 Federation La      3    h   850000.0     PI  Biggin   \n",
       "6  Abbotsford       55a Park St      4    h  1600000.0     VB  Nelson   \n",
       "\n",
       "        Date  Distance  Postcode      ...       Bathroom  Car  Landsize  \\\n",
       "1  3/12/2016       2.5    3067.0      ...            1.0  1.0     202.0   \n",
       "2  4/02/2016       2.5    3067.0      ...            1.0  0.0     156.0   \n",
       "4  4/03/2017       2.5    3067.0      ...            2.0  0.0     134.0   \n",
       "5  4/03/2017       2.5    3067.0      ...            2.0  1.0      94.0   \n",
       "6  4/06/2016       2.5    3067.0      ...            1.0  2.0     120.0   \n",
       "\n",
       "   BuildingArea  YearBuilt  CouncilArea Lattitude  Longtitude  \\\n",
       "1           NaN        NaN        Yarra  -37.7996    144.9984   \n",
       "2          79.0     1900.0        Yarra  -37.8079    144.9934   \n",
       "4         150.0     1900.0        Yarra  -37.8093    144.9944   \n",
       "5           NaN        NaN        Yarra  -37.7969    144.9969   \n",
       "6         142.0     2014.0        Yarra  -37.8072    144.9941   \n",
       "\n",
       "              Regionname Propertycount  \n",
       "1  Northern Metropolitan        4019.0  \n",
       "2  Northern Metropolitan        4019.0  \n",
       "4  Northern Metropolitan        4019.0  \n",
       "5  Northern Metropolitan        4019.0  \n",
       "6  Northern Metropolitan        4019.0  \n",
       "\n",
       "[5 rows x 21 columns]"
      ]
     },
     "execution_count": 3,
     "metadata": {},
     "output_type": "execute_result"
    }
   ],
   "source": [
    "df.head()"
   ]
  },
  {
   "cell_type": "markdown",
   "metadata": {},
   "source": [
    "#### Prices, general stats and plots"
   ]
  },
  {
   "cell_type": "code",
   "execution_count": 4,
   "metadata": {},
   "outputs": [
    {
     "data": {
      "text/plain": [
       "Text(0, 0.5, 'number of houses')"
      ]
     },
     "execution_count": 4,
     "metadata": {},
     "output_type": "execute_result"
    },
    {
     "data": {
      "image/png": "[encoded data removed]",
      "text/plain": [
       "<Figure size 648x360 with 1 Axes>"
      ]
     },
     "metadata": {
      "needs_background": "light"
     },
     "output_type": "display_data"
    }
   ],
   "source": [
    "fig, ax = plt.subplots(1, 1, figsize = (9,5))\n",
    "df['Price'].hist(bins=40, ax=ax)\n",
    "plt.xlabel('Price')\n",
    "plt.title('Distribution of prices')\n",
    "plt.ylabel('number of houses')"
   ]
  },
  {
   "cell_type": "code",
   "execution_count": 5,
   "metadata": {},
   "outputs": [
    {
     "name": "stdout",
     "output_type": "stream",
     "text": [
      "Mean price and std: 1056697 +- 641921\n",
      "Median price is  880000.0\n",
      "Max price is  9000000.0\n",
      "Min price  85000.0\n"
     ]
    }
   ],
   "source": [
    "print('Mean price and std: %d +- %d' % (df['Price'].mean(), df['Price'].std()))\n",
    "print('Median price is ', df['Price'].median())\n",
    "print('Max price is ', df['Price'].max())\n",
    "print('Min price ', df['Price'].min())"
   ]
  },
  {
   "cell_type": "markdown",
   "metadata": {},
   "source": [
    "### Handling the missing data"
   ]
  },
  {
   "cell_type": "markdown",
   "metadata": {},
   "source": [
    "Let's take a look at some of the columns:"
   ]
  },
  {
   "cell_type": "markdown",
   "metadata": {},
   "source": [
    "#### 'Method' variable"
   ]
  },
  {
   "cell_type": "markdown",
   "metadata": {},
   "source": [
    "S - property sold; SP - property sold prior; PI - property passed in; PN - sold prior not disclosed; SN - sold not disclosed; NB - no bid; VB - vendor bid; W - withdrawn prior to auction; SA - sold after auction; SS - sold after auction price not disclosed. N/A - price or highest bid not available."
   ]
  },
  {
   "cell_type": "code",
   "execution_count": 6,
   "metadata": {
    "scrolled": true
   },
   "outputs": [
    {
     "name": "stdout",
     "output_type": "stream",
     "text": [
      "unique values of \"Method\": ['S', 'SP', 'PI', 'VB', 'SA']\n"
     ]
    }
   ],
   "source": [
    "method_values = df['Method'].unique().tolist()\n",
    "print('unique values of \"Method\":', method_values)"
   ]
  },
  {
   "cell_type": "code",
   "execution_count": 7,
   "metadata": {
    "scrolled": false
   },
   "outputs": [
    {
     "data": {
      "image/png": "[encoded data removed]",
      "text/plain": [
       "<Figure size 1296x1080 with 6 Axes>"
      ]
     },
     "metadata": {
      "needs_background": "light"
     },
     "output_type": "display_data"
    }
   ],
   "source": [
    "fig, axes = plt.subplots(ncols=2, nrows=3, figsize=(18, 15))\n",
    "\n",
    "for i, name in enumerate(method_values):\n",
    "    slice_methods = (df['Method'] == name)\n",
    "    df[slice_methods]['Price'].hist(bins=40, ax=axes[i//2, i%2], range=(0, 6000000))\n",
    "    "
   ]
  },
  {
   "cell_type": "markdown",
   "metadata": {},
   "source": [
    "The distributions all look similar, so we'll drop this column (later)"
   ]
  },
  {
   "cell_type": "markdown",
   "metadata": {},
   "source": [
    "#### 'SellerG' variable"
   ]
  },
  {
   "cell_type": "code",
   "execution_count": 8,
   "metadata": {},
   "outputs": [
    {
     "name": "stdout",
     "output_type": "stream",
     "text": [
      "There are 305 unique values of \"SellerG\"\n"
     ]
    }
   ],
   "source": [
    "seller_values = df['SellerG'].unique().tolist()\n",
    "print('There are ' + repr(len(seller_values)) +  ' unique values of \"SellerG\"')"
   ]
  },
  {
   "cell_type": "markdown",
   "metadata": {},
   "source": [
    "There are 305 sellers. In this analysis we'll not consider this variable."
   ]
  },
  {
   "cell_type": "markdown",
   "metadata": {},
   "source": [
    "#### 'Regionname' variable"
   ]
  },
  {
   "cell_type": "code",
   "execution_count": 9,
   "metadata": {},
   "outputs": [
    {
     "name": "stdout",
     "output_type": "stream",
     "text": [
      "unique values of \"Regionname\": ['Northern Metropolitan', 'Western Metropolitan', 'Southern Metropolitan', 'Eastern Metropolitan', 'South-Eastern Metropolitan', 'Eastern Victoria', 'Northern Victoria', 'Western Victoria', nan]\n"
     ]
    }
   ],
   "source": [
    "region_values = df['Regionname'].unique().tolist()\n",
    "print('unique values of \"Regionname\":', region_values)\n",
    "region_values = region_values[:-1]"
   ]
  },
  {
   "cell_type": "code",
   "execution_count": 10,
   "metadata": {
    "scrolled": false
   },
   "outputs": [
    {
     "data": {
      "image/png": "[encoded data removed]",
      "text/plain": [
       "<Figure size 1296x1440 with 8 Axes>"
      ]
     },
     "metadata": {
      "needs_background": "light"
     },
     "output_type": "display_data"
    }
   ],
   "source": [
    "fig, axes = plt.subplots(ncols=2, nrows=4, figsize=(18, 20))\n",
    "\n",
    "for i, name in enumerate(region_values):\n",
    "    slice_regions = (df['Regionname'] == name)\n",
    "    df[slice_regions]['Price'].hist(bins=40, ax=axes[i//2, i%2], range=(0, 5000000), label=name)\n",
    "    axes[i//2, i%2].legend()"
   ]
  },
  {
   "cell_type": "markdown",
   "metadata": {},
   "source": [
    "One can see that Northern Metropolitan, Western Metropolitan have similar distributions; all of the other areas seemingly have different distributions. We'll replace these two values with a new value called NWMetropolitan"
   ]
  },
  {
   "cell_type": "code",
   "execution_count": 11,
   "metadata": {},
   "outputs": [],
   "source": [
    "region_mask = (df['Regionname'] =='Northern Metropolitan') ^ (df['Regionname'] =='Western Metropolitan')\n",
    "df.at[region_mask, 'Regionname'] = 'NWMetropolitan'"
   ]
  },
  {
   "cell_type": "markdown",
   "metadata": {},
   "source": [
    "#### Suburb"
   ]
  },
  {
   "cell_type": "code",
   "execution_count": 12,
   "metadata": {},
   "outputs": [
    {
     "name": "stdout",
     "output_type": "stream",
     "text": [
      "There are  330  unique suburbs\n",
      "There are 0  missing values\n"
     ]
    }
   ],
   "source": [
    "print('There are ', len(df['Suburb'].unique()), ' unique suburbs')\n",
    "print('There are', df['Suburb'].isna().sum(), ' missing values')"
   ]
  },
  {
   "cell_type": "markdown",
   "metadata": {},
   "source": [
    "We'll use one-hot encoding for this feature"
   ]
  },
  {
   "cell_type": "markdown",
   "metadata": {},
   "source": [
    "#### Address"
   ]
  },
  {
   "cell_type": "code",
   "execution_count": 13,
   "metadata": {},
   "outputs": [
    {
     "name": "stdout",
     "output_type": "stream",
     "text": [
      "There are 18134 unique address entries\n"
     ]
    }
   ],
   "source": [
    "print('There are', len(df['Address'].unique()), 'unique address entries')"
   ]
  },
  {
   "cell_type": "markdown",
   "metadata": {},
   "source": [
    "One approach might be to leave only the name of the street, and then use one-hot encoding. However, this feature might correlate with the previous one (no analysis is provided yet), but in this survey we'll omit this feature."
   ]
  },
  {
   "cell_type": "code",
   "execution_count": 14,
   "metadata": {},
   "outputs": [],
   "source": [
    "# df.drop('Address', axis=1, inplace=True)"
   ]
  },
  {
   "cell_type": "markdown",
   "metadata": {},
   "source": [
    "#### Bedroom2, Bathrooms and Rooms"
   ]
  },
  {
   "cell_type": "code",
   "execution_count": 15,
   "metadata": {},
   "outputs": [
    {
     "data": {
      "text/html": [
       "<div>\n",
       "<style scoped>\n",
       "    .dataframe tbody tr th:only-of-type {\n",
       "        vertical-align: middle;\n",
       "    }\n",
       "\n",
       "    .dataframe tbody tr th {\n",
       "        vertical-align: top;\n",
       "    }\n",
       "\n",
       "    .dataframe thead th {\n",
       "        text-align: right;\n",
       "    }\n",
       "</style>\n",
       "<table border=\"1\" class=\"dataframe\">\n",
       "  <thead>\n",
       "    <tr style=\"text-align: right;\">\n",
       "      <th></th>\n",
       "      <th>Bedroom2</th>\n",
       "      <th>Bathroom</th>\n",
       "      <th>Rooms</th>\n",
       "    </tr>\n",
       "  </thead>\n",
       "  <tbody>\n",
       "    <tr>\n",
       "      <th>Bedroom2</th>\n",
       "      <td>1.000000</td>\n",
       "      <td>0.589968</td>\n",
       "      <td>0.948740</td>\n",
       "    </tr>\n",
       "    <tr>\n",
       "      <th>Bathroom</th>\n",
       "      <td>0.589968</td>\n",
       "      <td>1.000000</td>\n",
       "      <td>0.597444</td>\n",
       "    </tr>\n",
       "    <tr>\n",
       "      <th>Rooms</th>\n",
       "      <td>0.948740</td>\n",
       "      <td>0.597444</td>\n",
       "      <td>1.000000</td>\n",
       "    </tr>\n",
       "  </tbody>\n",
       "</table>\n",
       "</div>"
      ],
      "text/plain": [
       "          Bedroom2  Bathroom     Rooms\n",
       "Bedroom2  1.000000  0.589968  0.948740\n",
       "Bathroom  0.589968  1.000000  0.597444\n",
       "Rooms     0.948740  0.597444  1.000000"
      ]
     },
     "execution_count": 15,
     "metadata": {},
     "output_type": "execute_result"
    }
   ],
   "source": [
    "# the correlation between these variables\n",
    "df[['Bedroom2', 'Bathroom', 'Rooms']].corr()"
   ]
  },
  {
   "cell_type": "markdown",
   "metadata": {},
   "source": [
    "Since Bedroom2 and Rooms are highly correlated, it's probably safe to drop Bedroom2 (especially since it has lots of nans)"
   ]
  },
  {
   "cell_type": "code",
   "execution_count": 16,
   "metadata": {},
   "outputs": [
    {
     "data": {
      "text/plain": [
       "<matplotlib.axes._subplots.AxesSubplot at 0x17844adfba8>"
      ]
     },
     "execution_count": 16,
     "metadata": {},
     "output_type": "execute_result"
    },
    {
     "data": {
      "image/png": "[encoded data removed]",
      "text/plain": [
       "<Figure size 432x288 with 1 Axes>"
      ]
     },
     "metadata": {
      "needs_background": "light"
     },
     "output_type": "display_data"
    }
   ],
   "source": [
    "df['Bathroom'].hist()"
   ]
  },
  {
   "cell_type": "code",
   "execution_count": 17,
   "metadata": {},
   "outputs": [
    {
     "data": {
      "text/plain": [
       "(array([9.090e+02, 4.992e+03, 7.953e+03, 3.648e+03, 7.730e+02, 9.200e+01,\n",
       "        1.300e+01, 1.000e+01, 1.000e+00, 4.000e+00, 0.000e+00, 1.000e+00]),\n",
       " array([ 1.        ,  1.91666667,  2.83333333,  3.75      ,  4.66666667,\n",
       "         5.58333333,  6.5       ,  7.41666667,  8.33333333,  9.25      ,\n",
       "        10.16666667, 11.08333333, 12.        ]),\n",
       " <a list of 12 Patch objects>)"
      ]
     },
     "execution_count": 17,
     "metadata": {},
     "output_type": "execute_result"
    },
    {
     "data": {
      "image/png": "[encoded data removed]",
      "text/plain": [
       "<Figure size 432x288 with 1 Axes>"
      ]
     },
     "metadata": {
      "needs_background": "light"
     },
     "output_type": "display_data"
    }
   ],
   "source": [
    "plt.hist(df['Rooms'], bins=12)"
   ]
  },
  {
   "cell_type": "markdown",
   "metadata": {},
   "source": [
    "We need to insert some missing values in 'Bathrooms'. Most houses have at most 1-3 bathrooms and 1-5 rooms. We'll look at the histograms (of number of bathrooms) for each number of rooms"
   ]
  },
  {
   "cell_type": "code",
   "execution_count": 18,
   "metadata": {},
   "outputs": [
    {
     "data": {
      "text/plain": [
       "<matplotlib.axes._subplots.AxesSubplot at 0x1784544edd8>"
      ]
     },
     "execution_count": 18,
     "metadata": {},
     "output_type": "execute_result"
    },
    {
     "data": {
      "image/png": "[encoded data removed]",
      "text/plain": [
       "<Figure size 432x288 with 1 Axes>"
      ]
     },
     "metadata": {
      "needs_background": "light"
     },
     "output_type": "display_data"
    }
   ],
   "source": [
    "mask_rooms = (df['Rooms'] >= 1) & (df['Rooms'] < 6) & (df['Bathroom'] > 0) & (df['Bathroom'] < 4)\n",
    "sns.countplot(data=df[mask_rooms], x='Rooms',  hue='Bathroom')"
   ]
  },
  {
   "cell_type": "code",
   "execution_count": 19,
   "metadata": {},
   "outputs": [],
   "source": [
    "# this function returns number of bathrooms according to the (empirically computed) probability distributions on the diagram above\n",
    "def get_bathrooms(house):\n",
    "    rooms, bathrooms = house\n",
    "    if np.isnan(bathrooms):\n",
    "        if rooms == 1:\n",
    "            return 1\n",
    "        elif rooms == 2: \n",
    "            bathrooms = [1.0, 2.0]\n",
    "            weights = [0.87, 0.12]\n",
    "            return choices(population=bathrooms, weights=weights)[0]\n",
    "        elif rooms == 3:\n",
    "            bathrooms = [1.0, 2.0]\n",
    "            weights = [0.55, 0.45]\n",
    "            return choices(population=bathrooms, weights=weights)[0]\n",
    "        elif rooms == 4:\n",
    "            bathrooms = [1.0, 2.0, 3.0]\n",
    "            weights = [0.2, 0.6, 0.2]\n",
    "            return choices(population=bathrooms, weights=weights)[0]\n",
    "        elif rooms == 5:\n",
    "            bathrooms = [2.0, 3.0]\n",
    "            weights = [0.5, 0.5]\n",
    "            return choices(population=bathrooms, weights=weights)[0]\n",
    "        elif rooms > 5:\n",
    "            return 3\n",
    "    else:\n",
    "        return bathrooms"
   ]
  },
  {
   "cell_type": "code",
   "execution_count": 20,
   "metadata": {},
   "outputs": [],
   "source": [
    "df['Bathrooms'] = df[['Rooms', 'Bathroom']].apply(get_bathrooms, axis=1)\n",
    "#df.drop('Bathroom', axis=1, inplace=True)"
   ]
  },
  {
   "cell_type": "markdown",
   "metadata": {},
   "source": [
    "#### Type"
   ]
  },
  {
   "cell_type": "markdown",
   "metadata": {},
   "source": [
    "Type: br - bedroom(s); h - house,cottage,villa, semi,terrace; u - unit, duplex; t - townhouse; dev site - development site; o res - other residential."
   ]
  },
  {
   "cell_type": "code",
   "execution_count": 21,
   "metadata": {},
   "outputs": [
    {
     "name": "stdout",
     "output_type": "stream",
     "text": [
      "unique values of \"Type\": ['h', 't', 'u']\n"
     ]
    }
   ],
   "source": [
    "type_values = df['Type'].unique().tolist()\n",
    "print('unique values of \"Type\":', type_values)"
   ]
  },
  {
   "cell_type": "code",
   "execution_count": 22,
   "metadata": {},
   "outputs": [
    {
     "data": {
      "image/png": "[encoded data removed]",
      "text/plain": [
       "<Figure size 1296x360 with 3 Axes>"
      ]
     },
     "metadata": {
      "needs_background": "light"
     },
     "output_type": "display_data"
    }
   ],
   "source": [
    "fig, axes = plt.subplots(ncols=3, nrows=1, figsize=(18, 5))\n",
    "\n",
    "for i, name in enumerate(type_values):\n",
    "    slice_types = (df['Type'] == name)\n",
    "    df[slice_types]['Price'].hist(bins=40, ax=axes[i], range=(0, 5000000), label=name)\n",
    "    axes[i].legend()"
   ]
  },
  {
   "cell_type": "markdown",
   "metadata": {},
   "source": [
    "All three distributions are different"
   ]
  },
  {
   "cell_type": "markdown",
   "metadata": {},
   "source": [
    "#### Date"
   ]
  },
  {
   "cell_type": "code",
   "execution_count": 23,
   "metadata": {},
   "outputs": [],
   "source": [
    "import datetime\n",
    "format_str = '%d/%m/%Y' # The format\n",
    "\n",
    "def get_date(date_str):\n",
    "    return datetime.datetime.strptime(date_str, format_str).date()\n",
    "\n",
    "df['New Date'] = df['Date'].apply(get_date)"
   ]
  },
  {
   "cell_type": "code",
   "execution_count": 24,
   "metadata": {},
   "outputs": [
    {
     "data": {
      "text/plain": [
       "Text(0.5, 1.0, 'Median price by date')"
      ]
     },
     "execution_count": 24,
     "metadata": {},
     "output_type": "execute_result"
    },
    {
     "data": {
      "image/png": "[encoded data removed]",
      "text/plain": [
       "<Figure size 432x288 with 1 Axes>"
      ]
     },
     "metadata": {
      "needs_background": "light"
     },
     "output_type": "display_data"
    }
   ],
   "source": [
    "plt.plot(df.groupby(df['New Date']).median()['Price'])\n",
    "plt.title('Median price by date')"
   ]
  },
  {
   "cell_type": "markdown",
   "metadata": {},
   "source": [
    "we'll drop dates (and all other irrelevant features) in this analysis. We'll drop Logtitude and langtitude for this analysis in an assumption that their only purpose is to calculate the suburb (which is known) and the distance to the center (which is known)"
   ]
  },
  {
   "cell_type": "code",
   "execution_count": 25,
   "metadata": {},
   "outputs": [],
   "source": [
    "df.drop(['New Date', 'Date', 'SellerG', 'Method', 'Address', 'Bathroom', 'Bedroom2', 'Postcode', 'Lattitude', 'Longtitude',\n",
    "         'CouncilArea'], axis=1, inplace=True)"
   ]
  },
  {
   "cell_type": "code",
   "execution_count": 26,
   "metadata": {},
   "outputs": [
    {
     "name": "stdout",
     "output_type": "stream",
     "text": [
      "<class 'pandas.core.frame.DataFrame'>\n",
      "Int64Index: 18396 entries, 1 to 23546\n",
      "Data columns (total 12 columns):\n",
      "Suburb           18396 non-null object\n",
      "Rooms            18396 non-null int64\n",
      "Type             18396 non-null object\n",
      "Price            18396 non-null float64\n",
      "Distance         18395 non-null float64\n",
      "Car              14820 non-null float64\n",
      "Landsize         13603 non-null float64\n",
      "BuildingArea     7762 non-null float64\n",
      "YearBuilt        8958 non-null float64\n",
      "Regionname       18395 non-null object\n",
      "Propertycount    18395 non-null float64\n",
      "Bathrooms        18396 non-null float64\n",
      "dtypes: float64(8), int64(1), object(3)\n",
      "memory usage: 1.8+ MB\n"
     ]
    }
   ],
   "source": [
    "df.info()"
   ]
  },
  {
   "cell_type": "code",
   "execution_count": 27,
   "metadata": {},
   "outputs": [],
   "source": [
    "#there's one nan in Regionname\n",
    "df.dropna(subset=['Regionname'], inplace=True)"
   ]
  },
  {
   "cell_type": "markdown",
   "metadata": {},
   "source": [
    "#### More processing data (dummies)"
   ]
  },
  {
   "cell_type": "code",
   "execution_count": 28,
   "metadata": {
    "scrolled": false
   },
   "outputs": [
    {
     "name": "stdout",
     "output_type": "stream",
     "text": [
      "<class 'pandas.core.frame.DataFrame'>\n",
      "Int64Index: 18395 entries, 1 to 23546\n",
      "Data columns (total 12 columns):\n",
      "Suburb           18395 non-null object\n",
      "Rooms            18395 non-null int64\n",
      "Type             18395 non-null object\n",
      "Price            18395 non-null float64\n",
      "Distance         18395 non-null float64\n",
      "Car              14820 non-null float64\n",
      "Landsize         13603 non-null float64\n",
      "BuildingArea     7762 non-null float64\n",
      "YearBuilt        8958 non-null float64\n",
      "Regionname       18395 non-null object\n",
      "Propertycount    18395 non-null float64\n",
      "Bathrooms        18395 non-null float64\n",
      "dtypes: float64(8), int64(1), object(3)\n",
      "memory usage: 1.8+ MB\n"
     ]
    }
   ],
   "source": [
    "df.info()"
   ]
  },
  {
   "cell_type": "markdown",
   "metadata": {},
   "source": [
    "The remaining columns 'Car', 'BuildingArea', 'YearBuilt', 'Landsize' seem to be very relevant to the analysis"
   ]
  },
  {
   "cell_type": "code",
   "execution_count": 29,
   "metadata": {},
   "outputs": [],
   "source": [
    "X = df.drop('Price', axis=1)\n",
    "\n",
    "cols_with_no_nan = X.columns[X.notna().all()]\n",
    "cols_with_missing_data = df.columns[df.isna().any()]\n",
    "\n",
    "X_full = X[cols_with_no_nan]\n",
    "y = df['Price'] / df['Price'].max() # we normalized the prices, otherwise the scores are too big\n",
    "\n",
    "cat_dummies = pd.get_dummies(X[['Suburb', 'Type', 'Regionname']])\n",
    "\n",
    "# X_dummies is the dataset with categorical values replaced by dummies\n",
    "X_dummies = X_full.copy()\n",
    "X_dummies.drop(['Suburb', 'Type', 'Regionname'], axis=1, inplace=True)\n",
    "X_full = X_dummies.join(cat_dummies) #now X_full has only columns with no nan and dummies for cat.data\n",
    "\n",
    "X_train_full, X_test_full, y_train, y_test = train_test_split(X_full, y, test_size=0.25)"
   ]
  },
  {
   "cell_type": "code",
   "execution_count": 30,
   "metadata": {},
   "outputs": [],
   "source": [
    "from sklearn.impute import SimpleImputer\n",
    "\n",
    "simple_imputer = SimpleImputer()\n",
    "\n",
    "X_impute = X.copy() # X_impute will contain imputed columns\n",
    "X_impute.drop(['Suburb', 'Type', 'Regionname'], axis=1, inplace=True)\n",
    "X_impute = X_impute.join(cat_dummies)\n",
    "\n",
    "X_train_impute = X_impute.loc[X_train_full.index]\n",
    "X_test_impute = X_impute.loc[X_test_full.index] # we split imputed data in the same way as 'full' data (columns with no nan)\n",
    "\n",
    "copy_X_train = X_train_impute.copy()\n",
    "copy_X_test = X_test_impute.copy()\n",
    "\n",
    "X_train_impute = pd.DataFrame(simple_imputer.fit_transform(X=X_train_impute))\n",
    "X_train_impute.columns = copy_X_train.columns\n",
    "X_test_impute = pd.DataFrame(simple_imputer.transform(X=X_test_impute))\n",
    "X_test_impute.columns = copy_X_test.columns"
   ]
  },
  {
   "cell_type": "markdown",
   "metadata": {},
   "source": [
    "The simple imputer is too naive: it substitutes nans with mean or median. Nevertheless, let's compare the base results; after that we'll return to the remaining 4 features ('Car', 'YearBuilt', 'BuildingArea', 'LandArea')"
   ]
  },
  {
   "cell_type": "code",
   "execution_count": 31,
   "metadata": {},
   "outputs": [
    {
     "data": {
      "text/plain": [
       "Index(['Suburb', 'Rooms', 'Type', 'Distance', 'Car', 'Landsize',\n",
       "       'BuildingArea', 'YearBuilt', 'Regionname', 'Propertycount',\n",
       "       'Bathrooms'],\n",
       "      dtype='object')"
      ]
     },
     "execution_count": 31,
     "metadata": {},
     "output_type": "execute_result"
    }
   ],
   "source": [
    "X.columns"
   ]
  },
  {
   "cell_type": "markdown",
   "metadata": {},
   "source": [
    "### Comparative base regression results for the original and imputed train sets"
   ]
  },
  {
   "cell_type": "code",
   "execution_count": 32,
   "metadata": {},
   "outputs": [],
   "source": [
    "from sklearn.linear_model import LinearRegression, Ridge, Lasso\n",
    "from sklearn.model_selection import GridSearchCV\n",
    "from sklearn.metrics import mean_squared_error, mean_absolute_error, r2_score"
   ]
  },
  {
   "cell_type": "code",
   "execution_count": 33,
   "metadata": {},
   "outputs": [],
   "source": [
    "def regression_model_scores(model, y_pred, y_true):\n",
    "    print('square root of mean squared error: %.4f' % (mean_squared_error(y_true, y_pred)) ** 0.5)\n",
    "    print('mean absolute error: %.4f' % (mean_absolute_error(y_true, y_pred)))\n",
    "    print('variance score: %.4f' % (r2_score(y_true, y_pred)))"
   ]
  },
  {
   "cell_type": "markdown",
   "metadata": {},
   "source": [
    "##### Linear regression with no regulatization:"
   ]
  },
  {
   "cell_type": "code",
   "execution_count": 34,
   "metadata": {
    "scrolled": true
   },
   "outputs": [
    {
     "name": "stdout",
     "output_type": "stream",
     "text": [
      "square root of mean squared error: 16289.9516\n",
      "mean absolute error: 574.8352\n",
      "variance score: -52270999158.3464\n"
     ]
    }
   ],
   "source": [
    "linear_model_full = LinearRegression() #again, full stands for the 'full'  dataset we train it on\n",
    "\n",
    "linear_model_full.fit(X_train_full, y_train)\n",
    "y_pred_full = linear_model_full.predict(X_test_full)\n",
    "regression_model_scores(model=linear_model_full, y_pred=y_pred_full, y_true=y_test)"
   ]
  },
  {
   "cell_type": "code",
   "execution_count": 35,
   "metadata": {},
   "outputs": [
    {
     "name": "stdout",
     "output_type": "stream",
     "text": [
      "square root of mean squared error: 4113.3953\n",
      "mean absolute error: 117.5123\n",
      "variance score: -3332898688.1788\n"
     ]
    }
   ],
   "source": [
    "linear_model_impute = LinearRegression() # model is trained on imputed data\n",
    "\n",
    "linear_model_impute.fit(X_train_impute, y_train)\n",
    "y_pred_impute = linear_model_impute.predict(X_test_impute)\n",
    "regression_model_scores(model=linear_model_impute, y_pred=y_pred_impute, y_true=y_test)"
   ]
  },
  {
   "cell_type": "markdown",
   "metadata": {},
   "source": [
    "Even the naive imputer seemingly improves the scores. (I have no idea why the variance is so big)"
   ]
  },
  {
   "cell_type": "markdown",
   "metadata": {},
   "source": [
    "##### Ridge regression "
   ]
  },
  {
   "cell_type": "code",
   "execution_count": 36,
   "metadata": {},
   "outputs": [
    {
     "name": "stdout",
     "output_type": "stream",
     "text": [
      "square root of mean squared error: 0.0417\n",
      "mean absolute error: 0.0272\n",
      "variance score: 0.6570\n",
      "{'alpha': 2.0}\n"
     ]
    }
   ],
   "source": [
    "alphas = [0.1, 0.2, 0.5, 0.75, 1.0, 1.3, 1.6, 2.0, 3.0, 5.0]\n",
    "params = {'alpha': alphas}\n",
    "\n",
    "ridge_model_full = Ridge()\n",
    "grid_search_ridge_full = GridSearchCV(estimator=ridge_model_full, param_grid=params, cv=5, scoring='r2')\n",
    "\n",
    "grid_search_ridge_full.fit(X_train_full, y_train)\n",
    "best_ridge_full = grid_search_ridge_full.best_estimator_\n",
    "y_pred_full = best_ridge_full.predict(X_test_full)\n",
    "\n",
    "regression_model_scores(best_ridge_full, y_pred=y_pred_full, y_true=y_test)\n",
    "print(grid_search_ridge_full.best_params_)"
   ]
  },
  {
   "cell_type": "code",
   "execution_count": 37,
   "metadata": {
    "scrolled": true
   },
   "outputs": [
    {
     "name": "stdout",
     "output_type": "stream",
     "text": [
      "square root of mean squared error: 0.0439\n",
      "mean absolute error: 0.0271\n",
      "variance score: 0.6207\n",
      "{'alpha': 2.0}\n"
     ]
    }
   ],
   "source": [
    "ridge_model_impute = Ridge()\n",
    "grid_search_ridge_impute = GridSearchCV(estimator=ridge_model_impute, param_grid=params, cv=5, scoring='r2')\n",
    "\n",
    "grid_search_ridge_impute.fit(X_train_impute, y_train)\n",
    "best_ridge_impute = grid_search_ridge_impute.best_estimator_\n",
    "y_pred_impute = best_ridge_impute.predict(X_test_impute)\n",
    "\n",
    "regression_model_scores(best_ridge_impute, y_pred=y_pred_impute, y_true=y_test)\n",
    "print(grid_search_ridge_full.best_params_)"
   ]
  },
  {
   "cell_type": "markdown",
   "metadata": {},
   "source": [
    "##### Lasso regression"
   ]
  },
  {
   "cell_type": "code",
   "execution_count": 38,
   "metadata": {},
   "outputs": [
    {
     "name": "stdout",
     "output_type": "stream",
     "text": [
      "square root of mean squared error: 0.0711\n",
      "mean absolute error: 0.0510\n",
      "variance score: 0.0039\n",
      "{'alpha': 0.1}\n"
     ]
    }
   ],
   "source": [
    "alphas = [0.1, 0.2, 0.5, 0.75, 1.0, 1.3, 1.6, 2.0, 3.0, 5.0]\n",
    "params = {'alpha': alphas}\n",
    "\n",
    "lasso_model_full = Lasso()\n",
    "grid_search_lasso_full = GridSearchCV(estimator=lasso_model_full, param_grid=params, cv=5, scoring='r2')\n",
    "\n",
    "grid_search_lasso_full.fit(X_train_full, y_train)\n",
    "best_lasso_full = grid_search_lasso_full.best_estimator_\n",
    "y_pred_full = best_lasso_full.predict(X_test_full)\n",
    "\n",
    "regression_model_scores(best_lasso_full, y_pred=y_pred_full, y_true=y_test)\n",
    "print(grid_search_lasso_full.best_params_)"
   ]
  },
  {
   "cell_type": "code",
   "execution_count": 39,
   "metadata": {},
   "outputs": [
    {
     "name": "stdout",
     "output_type": "stream",
     "text": [
      "square root of mean squared error: 0.0711\n",
      "mean absolute error: 0.0510\n",
      "variance score: 0.0037\n",
      "{'alpha': 3.0}\n"
     ]
    }
   ],
   "source": [
    "lasso_model_impute = Lasso()\n",
    "grid_search_lasso_impute = GridSearchCV(estimator=lasso_model_impute, param_grid=params, cv=5, scoring='r2')\n",
    "\n",
    "grid_search_lasso_impute.fit(X_train_impute, y_train)\n",
    "best_lasso_impute = grid_search_lasso_impute.best_estimator_\n",
    "y_pred_impute = best_lasso_impute.predict(X_test_impute)\n",
    "\n",
    "regression_model_scores(best_lasso_impute, y_pred=y_pred_impute, y_true=y_test)\n",
    "print(grid_search_lasso_impute.best_params_)"
   ]
  },
  {
   "cell_type": "markdown",
   "metadata": {},
   "source": [
    "A small conclusion: ridge regression seems to return a better model, and the the results on the imputed data are slightly better. There's some space to find better methods to fill the missing data and find better regression algorithms."
   ]
  },
  {
   "cell_type": "markdown",
   "metadata": {},
   "source": [
    "### Handling the missing data (continued)"
   ]
  },
  {
   "cell_type": "code",
   "execution_count": 40,
   "metadata": {},
   "outputs": [],
   "source": [
    "X.drop(['Suburb', 'Type', 'Regionname'], axis=1, inplace=True)\n",
    "X = X.join(cat_dummies)"
   ]
  },
  {
   "cell_type": "code",
   "execution_count": 41,
   "metadata": {},
   "outputs": [],
   "source": [
    "X_train = X.loc[X_train_full.index]\n",
    "X_test = X.loc[X_test_full.index] # we split imputed data in the same way as 'full' data (columns with no nan)"
   ]
  },
  {
   "cell_type": "markdown",
   "metadata": {},
   "source": [
    "#### Car"
   ]
  },
  {
   "cell_type": "code",
   "execution_count": 42,
   "metadata": {},
   "outputs": [
    {
     "data": {
      "text/html": [
       "<div>\n",
       "<style scoped>\n",
       "    .dataframe tbody tr th:only-of-type {\n",
       "        vertical-align: middle;\n",
       "    }\n",
       "\n",
       "    .dataframe tbody tr th {\n",
       "        vertical-align: top;\n",
       "    }\n",
       "\n",
       "    .dataframe thead th {\n",
       "        text-align: right;\n",
       "    }\n",
       "</style>\n",
       "<table border=\"1\" class=\"dataframe\">\n",
       "  <thead>\n",
       "    <tr style=\"text-align: right;\">\n",
       "      <th></th>\n",
       "      <th>Rooms</th>\n",
       "      <th>Car</th>\n",
       "    </tr>\n",
       "  </thead>\n",
       "  <tbody>\n",
       "    <tr>\n",
       "      <th>Rooms</th>\n",
       "      <td>1.000000</td>\n",
       "      <td>0.411435</td>\n",
       "    </tr>\n",
       "    <tr>\n",
       "      <th>Car</th>\n",
       "      <td>0.411435</td>\n",
       "      <td>1.000000</td>\n",
       "    </tr>\n",
       "  </tbody>\n",
       "</table>\n",
       "</div>"
      ],
      "text/plain": [
       "          Rooms       Car\n",
       "Rooms  1.000000  0.411435\n",
       "Car    0.411435  1.000000"
      ]
     },
     "execution_count": 42,
     "metadata": {},
     "output_type": "execute_result"
    }
   ],
   "source": [
    "X_train[['Rooms', 'Car']].corr()"
   ]
  },
  {
   "cell_type": "markdown",
   "metadata": {},
   "source": [
    "There's probably some link between these two features. we'll try to use the same trick as before with 'Bathrooms'"
   ]
  },
  {
   "cell_type": "code",
   "execution_count": 43,
   "metadata": {},
   "outputs": [
    {
     "data": {
      "text/plain": [
       "Text(0.5, 1.0, 'Count distribution of parking spots')"
      ]
     },
     "execution_count": 43,
     "metadata": {},
     "output_type": "execute_result"
    },
    {
     "data": {
      "image/png": "[encoded data removed]",
      "text/plain": [
       "<Figure size 432x288 with 1 Axes>"
      ]
     },
     "metadata": {
      "needs_background": "light"
     },
     "output_type": "display_data"
    }
   ],
   "source": [
    "sns.countplot(X_train['Car'])\n",
    "plt.title('Count distribution of parking spots')"
   ]
  },
  {
   "cell_type": "code",
   "execution_count": 44,
   "metadata": {},
   "outputs": [
    {
     "data": {
      "text/plain": [
       "Text(0.5, 1.0, 'Distribution of house prices with respect to the number of parking spots')"
      ]
     },
     "execution_count": 44,
     "metadata": {},
     "output_type": "execute_result"
    },
    {
     "data": {
      "image/png": "[encoded data removed]",
      "text/plain": [
       "<Figure size 1296x576 with 1 Axes>"
      ]
     },
     "metadata": {
      "needs_background": "light"
     },
     "output_type": "display_data"
    }
   ],
   "source": [
    "fig, ax = plt.subplots(figsize=(18, 8))\n",
    "sns.boxplot(ax=ax, x=X_train['Car'], y=y_train)\n",
    "plt.title('Distribution of house prices with respect to the number of parking spots')"
   ]
  },
  {
   "cell_type": "code",
   "execution_count": 45,
   "metadata": {},
   "outputs": [
    {
     "name": "stdout",
     "output_type": "stream",
     "text": [
      "There are 24 houses with at least 7 car spots\n"
     ]
    }
   ],
   "source": [
    "print('There are %.0f houses with at least 7 car spots' %(df[df['Car'] > 6].shape[0]))"
   ]
  },
  {
   "cell_type": "markdown",
   "metadata": {},
   "source": [
    "Strangely, it doesn't look like this feature plays an important role. The upper bound for the 0.75 percentile, 0.25 percentile and the median are almost the same for all values of 'Car' between 0 and 6. The statistics for 'Car' between 7 and 10 may probably inaccurate due to small number of corresponding instances (even though it's logical to assume that the more parking spots the higher the price). One may wonder why the median price for houses with no car spots are higher than the 0.75 percentile for houses with 1 parking spot. It might be due to the fact that there are probably a lot of expensive apartments in apartment blocks sold without parking spots, but a house with 1 parking spot is guaranteed to be cheaper."
   ]
  },
  {
   "cell_type": "code",
   "execution_count": 46,
   "metadata": {},
   "outputs": [
    {
     "data": {
      "text/plain": [
       "array(['Abbotsford', 'Airport West', 'Albert Park', 'Alphington',\n",
       "       'Altona', 'Altona North', 'Armadale', 'Ascot Vale', 'Ashburton',\n",
       "       'Ashwood', 'Avondale Heights', 'Balaclava', 'Balwyn',\n",
       "       'Balwyn North', 'Bentleigh', 'Bentleigh East', 'Box Hill',\n",
       "       'Braybrook', 'Brighton', 'Brighton East', 'Brunswick',\n",
       "       'Brunswick West', 'Bulleen', 'Burwood', 'Camberwell', 'Canterbury',\n",
       "       'Carlton North', 'Carnegie', 'Caulfield', 'Caulfield North',\n",
       "       'Caulfield South', 'Chadstone', 'Clifton Hill', 'Coburg',\n",
       "       'Coburg North', 'Collingwood', 'Doncaster', 'Eaglemont',\n",
       "       'Elsternwick', 'Elwood', 'Essendon', 'Essendon North', 'Fairfield',\n",
       "       'Fitzroy', 'Fitzroy North', 'Flemington', 'Footscray', 'Glen Iris',\n",
       "       'Glenroy', 'Gowanbrae', 'Hadfield', 'Hampton', 'Hampton East',\n",
       "       'Hawthorn', 'Heidelberg Heights', 'Heidelberg West', 'Hughesdale',\n",
       "       'Ivanhoe', 'Kealba', 'Keilor East', 'Kensington', 'Kew',\n",
       "       'Kew East', 'Kooyong', 'Maidstone', 'Malvern', 'Malvern East',\n",
       "       'Maribyrnong', 'Melbourne', 'Middle Park', 'Mont Albert',\n",
       "       'Moonee Ponds', 'Moorabbin', 'Newport', 'Niddrie',\n",
       "       'North Melbourne', 'Northcote', 'Oak Park', 'Oakleigh South',\n",
       "       'Parkville', 'Pascoe Vale', 'Port Melbourne', 'Prahran', 'Preston',\n",
       "       'Reservoir', 'Richmond', 'Rosanna', 'Seddon', 'South Melbourne',\n",
       "       'South Yarra', 'Southbank', 'Spotswood', 'St Kilda', 'Strathmore',\n",
       "       'Sunshine', 'Sunshine North', 'Sunshine West', 'Surrey Hills',\n",
       "       'Templestowe Lower', 'Thornbury', 'Toorak', 'Viewbank', 'Watsonia',\n",
       "       'West Melbourne', 'Williamstown', 'Williamstown North', 'Windsor',\n",
       "       'Yallambie', 'Yarraville', 'Aberfeldie', 'Bellfield',\n",
       "       'Brunswick East', 'Burnley', 'Campbellfield', 'Carlton',\n",
       "       'East Melbourne', 'Essendon West', 'Fawkner', 'Hawthorn East',\n",
       "       'Heidelberg', 'Ivanhoe East', 'Jacana', 'Kingsbury', 'Kingsville',\n",
       "       'Murrumbeena', 'Ormond', 'West Footscray', 'Albion', 'Brooklyn',\n",
       "       'Glen Huntly', 'Oakleigh', 'Ripponlea', 'Cremorne', 'Docklands',\n",
       "       'South Kingsville', 'Strathmore Heights', 'Travancore',\n",
       "       'Caulfield East', 'Seaholme', 'Keilor Park', 'Gardenvale',\n",
       "       'Princes Hill', 'Ardeer', 'Attwood', 'Bayswater',\n",
       "       'Bayswater North', 'Beaumaris', 'Berwick', 'Blackburn',\n",
       "       'Blackburn South', 'Boronia', 'Briar Hill', 'Broadmeadows',\n",
       "       'Bundoora', 'Burnside Heights', 'Burwood East', 'Cairnlea',\n",
       "       'Caroline Springs', 'Cheltenham', 'Clyde North', 'Craigieburn',\n",
       "       'Cranbourne', 'Croydon', 'Croydon North', 'Dandenong',\n",
       "       'Dandenong North', 'Diamond Creek', 'Dingley Village',\n",
       "       'Doncaster East', 'Donvale', 'Doreen', 'Edithvale', 'Eltham',\n",
       "       'Eltham North', 'Epping', 'Eumemmerring', 'Ferntree Gully',\n",
       "       'Forest Hill', 'Frankston', 'Frankston North', 'Frankston South',\n",
       "       'Gisborne', 'Gladstone Park', 'Glen Waverley', 'Greensborough',\n",
       "       'Greenvale', 'Hallam', 'Healesville', 'Highett', 'Hillside',\n",
       "       'Hoppers Crossing', 'Huntingdale', 'Keilor Downs', 'Keilor Lodge',\n",
       "       'Keysborough', 'Kings Park', 'Lalor', 'Lower Plenty', 'Lynbrook',\n",
       "       'MacLeod', 'Melton', 'Melton South', 'Mentone', 'Mernda',\n",
       "       'Mill Park', 'Mitcham', 'Montmorency', 'Mordialloc',\n",
       "       'Mount Waverley', 'Narre Warren', 'Noble Park', 'Nunawading',\n",
       "       'Oakleigh East', 'Parkdale', 'Point Cook', 'Ringwood',\n",
       "       'Ringwood East', 'Rockbank', 'Rowville', 'Roxburgh Park',\n",
       "       'Sandringham', 'Seabrook', 'Seaford', 'Skye', 'South Morang',\n",
       "       'Springvale', 'St Albans', 'St Helena', 'Sunbury', 'Sydenham',\n",
       "       'Tarneit', 'Taylors Hill', 'Taylors Lakes', 'Tecoma', 'The Basin',\n",
       "       'Thomastown', 'Truganina', 'Tullamarine', 'Vermont', 'Wantirna',\n",
       "       'Wantirna South', 'Werribee', 'Werribee South', 'Westmeadows',\n",
       "       'Williams Landing', 'Wollert', 'Wyndham Vale', 'Altona Meadows',\n",
       "       'Aspendale', 'Black Rock', 'Blackburn North', 'Bonbeach', 'Carrum',\n",
       "       'Chelsea', 'Clayton', 'Clayton South', 'Dallas', 'Delahey',\n",
       "       'Doveton', 'Heathmont', 'McKinnon', 'Melton West', 'Mooroolbark',\n",
       "       'Mulgrave', 'Pakenham', 'Ringwood North', 'Templestowe',\n",
       "       'Vermont South', 'Warrandyte', 'Watsonia North', 'Wattle Glen',\n",
       "       'Wheelers Hill', 'Aspendale Gardens', 'Carrum Downs',\n",
       "       'Cranbourne East', 'Deer Park', 'Heatherton', 'Langwarrin',\n",
       "       'Notting Hill', 'Albanvale', 'Beaconsfield Upper',\n",
       "       'Chelsea Heights', 'Chirnside Park', 'Coolaroo', 'Keilor',\n",
       "       'Kilsyth', 'Meadow Heights', 'Mount Evelyn', 'North Warrandyte',\n",
       "       'Riddells Creek', 'Sandhurst', 'Scoresby', 'Silvan',\n",
       "       'Croydon Hills', 'Croydon South', 'Derrimut', 'Diggers Rest',\n",
       "       'Hampton Park', 'Knoxfield', 'Upwey', 'Bacchus Marsh',\n",
       "       'Cranbourne North', 'Montrose', 'Bullengarook', 'Clarinda',\n",
       "       'Deepdene', 'Hurstbridge', 'Kurunjang', 'Wonga Park',\n",
       "       'Endeavour Hills', 'Mickleham', 'Officer', 'Waterways',\n",
       "       'Beaconsfield', 'Springvale South', 'Yarra Glen', 'Brookfield',\n",
       "       'Emerald', 'Plenty', 'Whittlesea', 'Burnside', 'New Gisborne',\n",
       "       'Patterson Lakes', 'Wallan', 'Laverton', 'Lilydale', 'Plumpton',\n",
       "       'croydon', 'Monbulk'], dtype=object)"
      ]
     },
     "execution_count": 46,
     "metadata": {},
     "output_type": "execute_result"
    }
   ],
   "source": [
    "df['Suburb'].unique()"
   ]
  },
  {
   "cell_type": "markdown",
   "metadata": {},
   "source": [
    "Let's compare the distributions of number of cars in different suburbs:"
   ]
  },
  {
   "cell_type": "code",
   "execution_count": 47,
   "metadata": {},
   "outputs": [
    {
     "data": {
      "image/png": "[encoded data removed]",
      "text/plain": [
       "<Figure size 1296x864 with 6 Axes>"
      ]
     },
     "metadata": {
      "needs_background": "light"
     },
     "output_type": "display_data"
    }
   ],
   "source": [
    "some_suburbs = ['Abbotsford', 'Croydon Hills', 'Wantirna South', 'Canterbury', 'Vermont', 'Preston']\n",
    "figure, axes = plt.subplots(2,3, figsize=(18,12))\n",
    "\n",
    "plt.suptitle('Number of parking spots in some suburbs')\n",
    "\n",
    "for i in range(2):\n",
    "    for j in range(3):\n",
    "        sns.countplot(ax=axes[i, j], x=df[df['Suburb'] == some_suburbs[i*3 + j]]['Car'])        "
   ]
  },
  {
   "cell_type": "markdown",
   "metadata": {},
   "source": [
    "The distributions are different (rich and poor suburbs). It is possible to fill missing data randomly according to these distributions, but we'll use regression (on known columns)."
   ]
  },
  {
   "cell_type": "code",
   "execution_count": 48,
   "metadata": {},
   "outputs": [
    {
     "name": "stderr",
     "output_type": "stream",
     "text": [
      "C:\\Users\\Temirlan\\Anaconda3\\lib\\site-packages\\pandas\\core\\frame.py:3697: SettingWithCopyWarning: \n",
      "A value is trying to be set on a copy of a slice from a DataFrame\n",
      "\n",
      "See the caveats in the documentation: http://pandas.pydata.org/pandas-docs/stable/indexing.html#indexing-view-versus-copy\n",
      "  errors=errors)\n"
     ]
    }
   ],
   "source": [
    "X_car = X_train[X_train['Car'].notna()] # X_car and y_car is the data we're going to train and test our model on\n",
    "y_car = X_car['Car']\n",
    "\n",
    "X_train_missing_car = X_train[X_train['Car'].isna()] # we need to fill the missing values of 'Car' here\n",
    "X_test_missing_car = X_test[X_test['Car'].isna()]    # and here\n",
    "\n",
    "X_car.drop(['Car', 'Landsize', 'BuildingArea', 'YearBuilt'], axis=1, inplace=True)  #dropping the columns with missing values.\n",
    "X_train_missing_car.drop(['Car', 'Landsize', 'BuildingArea', 'YearBuilt'], axis=1, inplace=True)\n",
    "X_test_missing_car.drop(['Car', 'Landsize', 'BuildingArea', 'YearBuilt'], axis=1, inplace=True)"
   ]
  },
  {
   "cell_type": "code",
   "execution_count": 49,
   "metadata": {},
   "outputs": [],
   "source": [
    "# filling missing values with values obtained from ridge regression \n",
    "lr_car = Ridge()\n",
    "alphas = [0.1, 0.2, 0.5, 0.75, 1.0, 1.3, 1.6, 2.0, 3.0, 5.0]\n",
    "params = {'alpha': alphas}\n",
    "grid_search_car = GridSearchCV(estimator=lr_car, param_grid=params, scoring='r2', cv=5)\n",
    "\n",
    "grid_search_car.fit(X_car, y_car)\n",
    "car_predictor = grid_search_car.best_estimator_\n",
    "cars_predicted_train = np.round(car_predictor.predict(X_train_missing_car))\n",
    "cars_predicted_train = pd.Series(data=cars_predicted_train, index=X_train_missing_car.index) #fillna works with pd.Series \n",
    "cars_predicted_test = np.round(car_predictor.predict(X_test_missing_car))\n",
    "cars_predicted_test = pd.Series(data=cars_predicted_test, index=X_test_missing_car.index)\n",
    "\n",
    "X_train['Car'].fillna(value=cars_predicted_train, inplace=True)\n",
    "X_test['Car'].fillna(value=cars_predicted_test, inplace=True)"
   ]
  },
  {
   "cell_type": "code",
   "execution_count": 50,
   "metadata": {},
   "outputs": [
    {
     "name": "stdout",
     "output_type": "stream",
     "text": [
      "missing car values, in train: 0.0000, in test: 0.0000\n"
     ]
    }
   ],
   "source": [
    "print('missing car values, in train: %.4f, in test: %.4f' % (X_train['Car'].isnull().sum(), X_test['Car'].isnull().sum()))"
   ]
  },
  {
   "cell_type": "markdown",
   "metadata": {},
   "source": [
    "#### Landsize"
   ]
  },
  {
   "cell_type": "code",
   "execution_count": 51,
   "metadata": {},
   "outputs": [
    {
     "name": "stdout",
     "output_type": "stream",
     "text": [
      "{'mean': 574.7318683484431, 'median': 441.0, 'std': 4580.848725139739}\n"
     ]
    }
   ],
   "source": [
    "landsize_stats_before = {'mean': X_train['Landsize'].mean(),\n",
    "                 'median': X_train['Landsize'].median(),\n",
    "                 'std': X_train['Landsize'].std()}\n",
    "print(landsize_stats_before)"
   ]
  },
  {
   "cell_type": "code",
   "execution_count": 52,
   "metadata": {},
   "outputs": [
    {
     "name": "stderr",
     "output_type": "stream",
     "text": [
      "C:\\Users\\Temirlan\\Anaconda3\\lib\\site-packages\\pandas\\core\\frame.py:3697: SettingWithCopyWarning: \n",
      "A value is trying to be set on a copy of a slice from a DataFrame\n",
      "\n",
      "See the caveats in the documentation: http://pandas.pydata.org/pandas-docs/stable/indexing.html#indexing-view-versus-copy\n",
      "  errors=errors)\n"
     ]
    }
   ],
   "source": [
    "X_land = X_train[X_train['Landsize'].notna()] # X_train with landsize present\n",
    "y_land = X_land['Landsize']\n",
    "\n",
    "X_train_missing_land = X_train[X_train['Landsize'].isna()]  #we need to fill the missing values of 'Landsize' here\n",
    "X_test_missing_land = X_test[X_test['Landsize'].isna()] # and here\n",
    "X_land.drop(['Landsize', 'YearBuilt', 'BuildingArea'], axis=1, inplace=True)\n",
    "X_train_missing_land.drop(['Landsize', 'YearBuilt', 'BuildingArea'], axis=1, inplace=True)\n",
    "X_test_missing_land.drop(['Landsize', 'YearBuilt', 'BuildingArea'], axis=1, inplace=True)"
   ]
  },
  {
   "cell_type": "code",
   "execution_count": 53,
   "metadata": {},
   "outputs": [],
   "source": [
    "# filling missing values with values obtained from ridge regression \n",
    "lr_land = Ridge()\n",
    "alphas = [0.1, 0.2, 0.5, 0.75, 1.0, 1.3, 1.6, 2.0, 3.0, 5.0]\n",
    "params = {'alpha': alphas}\n",
    "grid_search_land = GridSearchCV(estimator=lr_land, param_grid=params, scoring='r2', cv=5)\n",
    "\n",
    "grid_search_land.fit(X_land, y_land)\n",
    "land_predictor = grid_search_land.best_estimator_\n",
    "land_predicted_train = land_predictor.predict(X_train_missing_land)\n",
    "land_predicted_train = pd.Series(data=land_predicted_train, index=X_train_missing_land.index)\n",
    "land_predicted_test = land_predictor.predict(X_test_missing_land)\n",
    "land_predicted_test = pd.Series(data=land_predicted_test, index=X_test_missing_land.index)\n",
    "\n",
    "X_train['Landsize'].fillna(value=land_predicted_train, inplace=True)\n",
    "X_test['Landsize'].fillna(value=land_predicted_test, inplace=True)"
   ]
  },
  {
   "cell_type": "code",
   "execution_count": 54,
   "metadata": {},
   "outputs": [
    {
     "name": "stdout",
     "output_type": "stream",
     "text": [
      "land stats before imputing the data:  {'mean': 574.7318683484431, 'median': 441.0, 'std': 4580.848725139739}\n",
      "land stats after imputing the data:  {'mean': 566.3268685676884, 'median': 454.75857096491484, 'std': 3944.7243819124965}\n"
     ]
    }
   ],
   "source": [
    "landsize_stats_after = {'mean': X_train['Landsize'].mean(),\n",
    "                        'median': X_train['Landsize'].median(),\n",
    "                        'std': X_train['Landsize'].std()}\n",
    "print('land stats before imputing the data: ', landsize_stats_before)\n",
    "print('land stats after imputing the data: ', landsize_stats_after)"
   ]
  },
  {
   "cell_type": "markdown",
   "metadata": {},
   "source": [
    "The regression didn't skew the data too much"
   ]
  },
  {
   "cell_type": "markdown",
   "metadata": {},
   "source": [
    "#### Year"
   ]
  },
  {
   "cell_type": "code",
   "execution_count": 55,
   "metadata": {
    "scrolled": false
   },
   "outputs": [
    {
     "name": "stdout",
     "output_type": "stream",
     "text": [
      "{'mean': 1965.9491954707985, 'median': 1970.0, 'std': 37.3182371418173}\n"
     ]
    }
   ],
   "source": [
    "year_stats_before = {'mean': X_train['YearBuilt'].mean(),\n",
    "                 'median': X_train['YearBuilt'].median(),\n",
    "                 'std': X_train['YearBuilt'].std()}\n",
    "print(year_stats_before)"
   ]
  },
  {
   "cell_type": "code",
   "execution_count": 56,
   "metadata": {
    "scrolled": true
   },
   "outputs": [
    {
     "name": "stderr",
     "output_type": "stream",
     "text": [
      "C:\\Users\\Temirlan\\Anaconda3\\lib\\site-packages\\pandas\\core\\frame.py:3697: SettingWithCopyWarning: \n",
      "A value is trying to be set on a copy of a slice from a DataFrame\n",
      "\n",
      "See the caveats in the documentation: http://pandas.pydata.org/pandas-docs/stable/indexing.html#indexing-view-versus-copy\n",
      "  errors=errors)\n"
     ]
    }
   ],
   "source": [
    "X_year = X_train[X_train['YearBuilt'].notna()] # X_train with YearBuilt present\n",
    "y_year = X_year['YearBuilt']\n",
    "\n",
    "X_train_missing_year = X_train[X_train['YearBuilt'].isna()]  #we need to fill the missing values of YearBuilt here\n",
    "X_test_missing_year = X_test[X_test['YearBuilt'].isna()] # and here\n",
    "X_year.drop(['YearBuilt', 'BuildingArea'], axis=1, inplace=True)\n",
    "X_train_missing_year.drop(['YearBuilt', 'BuildingArea'], axis=1, inplace=True)\n",
    "X_test_missing_year.drop(['YearBuilt', 'BuildingArea'], axis=1, inplace=True)"
   ]
  },
  {
   "cell_type": "code",
   "execution_count": 57,
   "metadata": {},
   "outputs": [],
   "source": [
    "# filling missing values with values obtained from ridge regression \n",
    "lr_year = Ridge()\n",
    "alphas = [0.1, 0.2, 0.5, 0.75, 1.0, 1.3, 1.6, 2.0, 3.0, 5.0]\n",
    "params = {'alpha': alphas}\n",
    "grid_search_year = GridSearchCV(estimator=lr_year, param_grid=params, scoring='r2', cv=5)\n",
    "\n",
    "grid_search_year.fit(X_year, y_year)\n",
    "year_predictor = grid_search_year.best_estimator_\n",
    "year_predicted_train = year_predictor.predict(X_train_missing_year)\n",
    "year_predicted_train = pd.Series(data=year_predicted_train, index=X_train_missing_year.index)\n",
    "year_predicted_test = year_predictor.predict(X_test_missing_year)\n",
    "year_predicted_test = pd.Series(data=year_predicted_test, index=X_test_missing_year.index)\n",
    "\n",
    "X_train['YearBuilt'].fillna(value=year_predicted_train, inplace=True)\n",
    "X_test['YearBuilt'].fillna(value=year_predicted_test, inplace=True)"
   ]
  },
  {
   "cell_type": "code",
   "execution_count": 58,
   "metadata": {},
   "outputs": [
    {
     "name": "stdout",
     "output_type": "stream",
     "text": [
      "YearBuilt stats before imputing the data:  {'mean': 1965.9491954707985, 'median': 1970.0, 'std': 37.3182371418173}\n",
      "YearBuilt stats before imputing the data:  {'mean': 1965.9539133233789, 'median': 1968.2030806455427, 'std': 31.369515327772017}\n"
     ]
    }
   ],
   "source": [
    "year_stats_after = {'mean': X_train['YearBuilt'].mean(),\n",
    "                 'median': X_train['YearBuilt'].median(),\n",
    "                 'std': X_train['YearBuilt'].std()}\n",
    "print('YearBuilt stats before imputing the data: ', year_stats_before)\n",
    "print('YearBuilt stats before imputing the data: ', year_stats_after)"
   ]
  },
  {
   "cell_type": "markdown",
   "metadata": {},
   "source": [
    "#### Building Area"
   ]
  },
  {
   "cell_type": "code",
   "execution_count": 59,
   "metadata": {},
   "outputs": [
    {
     "name": "stdout",
     "output_type": "stream",
     "text": [
      "{'mean': 153.92383226027394, 'median': 125.0, 'std': 596.4550981606911}\n"
     ]
    }
   ],
   "source": [
    "area_stats_before = {'mean': X_train['BuildingArea'].mean(),\n",
    "                 'median': X_train['BuildingArea'].median(),\n",
    "                 'std': X_train['BuildingArea'].std()}\n",
    "print(area_stats_before)"
   ]
  },
  {
   "cell_type": "code",
   "execution_count": 60,
   "metadata": {
    "scrolled": true
   },
   "outputs": [
    {
     "name": "stderr",
     "output_type": "stream",
     "text": [
      "C:\\Users\\Temirlan\\Anaconda3\\lib\\site-packages\\pandas\\core\\frame.py:3697: SettingWithCopyWarning: \n",
      "A value is trying to be set on a copy of a slice from a DataFrame\n",
      "\n",
      "See the caveats in the documentation: http://pandas.pydata.org/pandas-docs/stable/indexing.html#indexing-view-versus-copy\n",
      "  errors=errors)\n"
     ]
    }
   ],
   "source": [
    "X_area = X_train[X_train['BuildingArea'].notna()] # X_train with YearBuilt present\n",
    "y_area = X_area['BuildingArea']\n",
    "\n",
    "X_train_missing_area = X_train[X_train['BuildingArea'].isna()]  #we need to fill the missing values of BuildingArea here\n",
    "X_test_missing_area = X_test[X_test['BuildingArea'].isna()] # and here\n",
    "X_area.drop(['BuildingArea'], axis=1, inplace=True)\n",
    "X_train_missing_area.drop(['BuildingArea'], axis=1, inplace=True)\n",
    "X_test_missing_area.drop(['BuildingArea'], axis=1, inplace=True)"
   ]
  },
  {
   "cell_type": "code",
   "execution_count": 61,
   "metadata": {},
   "outputs": [],
   "source": [
    "# filling missing values with values obtained from ridge regression \n",
    "lr_area = Ridge()\n",
    "alphas = [0.1, 0.2, 0.5, 0.75, 1.0, 1.3, 1.6, 2.0, 3.0, 5.0]\n",
    "params = {'alpha': alphas}\n",
    "grid_search_area = GridSearchCV(estimator=lr_area, param_grid=params, scoring='r2', cv=5)\n",
    "\n",
    "grid_search_area.fit(X_area, y_area)\n",
    "area_predictor = grid_search_area.best_estimator_\n",
    "area_predicted_train = area_predictor.predict(X_train_missing_area)\n",
    "area_predicted_train = pd.Series(data=area_predicted_train, index=X_train_missing_area.index)\n",
    "area_predicted_test = area_predictor.predict(X_test_missing_area)\n",
    "area_predicted_test = pd.Series(data=area_predicted_test, index=X_test_missing_area.index)\n",
    "\n",
    "X_train['BuildingArea'].fillna(value=area_predicted_train, inplace=True)\n",
    "X_test['BuildingArea'].fillna(value=area_predicted_test, inplace=True)"
   ]
  },
  {
   "cell_type": "code",
   "execution_count": 62,
   "metadata": {},
   "outputs": [
    {
     "name": "stdout",
     "output_type": "stream",
     "text": [
      "BuildingArea stats before imputing the data:  {'mean': 153.92383226027394, 'median': 125.0, 'std': 596.4550981606911}\n",
      "BuildingArea stats before imputing the data:  {'mean': 151.57424517972677, 'median': 131.99173042667005, 'std': 437.74295342039414}\n"
     ]
    }
   ],
   "source": [
    "area_stats_after = {'mean': X_train['BuildingArea'].mean(),\n",
    "                 'median': X_train['BuildingArea'].median(),\n",
    "                 'std': X_train['BuildingArea'].std()}\n",
    "print('BuildingArea stats before imputing the data: ', area_stats_before)\n",
    "print('BuildingArea stats before imputing the data: ', area_stats_after)"
   ]
  },
  {
   "cell_type": "markdown",
   "metadata": {},
   "source": [
    "### Base regression models"
   ]
  },
  {
   "cell_type": "markdown",
   "metadata": {},
   "source": [
    "#### Ridge"
   ]
  },
  {
   "cell_type": "code",
   "execution_count": 174,
   "metadata": {},
   "outputs": [
    {
     "name": "stdout",
     "output_type": "stream",
     "text": [
      "square root of mean squared error: 0.0411\n",
      "mean absolute error: 0.0268\n",
      "variance score: 0.6674\n",
      "{'alpha': 3.0}\n"
     ]
    }
   ],
   "source": [
    "alphas = [0.1, 0.2, 0.5, 0.75, 1.0, 1.3, 1.6, 2.0, 3.0, 5.0]\n",
    "params = {'alpha': alphas}\n",
    "\n",
    "ridge_simple = Ridge() # simple because the features imputation is simple regression. \n",
    "                       # we might want to make some more convoluted feature engineering\n",
    "grid_search_ridge_simple = GridSearchCV(estimator=ridge_simple, param_grid=params, cv=5, scoring='r2')\n",
    "\n",
    "grid_search_ridge_simple.fit(X_train, y_train)\n",
    "best_ridge_simple = grid_search_ridge_simple.best_estimator_\n",
    "y_pred = best_ridge_simple.predict(X_test)\n",
    "\n",
    "regression_model_scores(best_ridge_simple, y_pred=y_pred, y_true=y_test)\n",
    "print(grid_search_ridge_simple.best_params_)"
   ]
  },
  {
   "cell_type": "markdown",
   "metadata": {},
   "source": [
    "#### Lasso "
   ]
  },
  {
   "cell_type": "code",
   "execution_count": 175,
   "metadata": {},
   "outputs": [
    {
     "name": "stdout",
     "output_type": "stream",
     "text": [
      "square root of mean squared error: 0.0712\n",
      "mean absolute error: 0.0508\n",
      "variance score: 0.0023\n",
      "{'alpha': 3.0}\n"
     ]
    },
    {
     "name": "stderr",
     "output_type": "stream",
     "text": [
      "C:\\Users\\Temirlan\\Anaconda3\\lib\\site-packages\\sklearn\\model_selection\\_search.py:841: DeprecationWarning: The default of the `iid` parameter will change from True to False in version 0.22 and will be removed in 0.24. This will change numeric results when test-set sizes are unequal.\n",
      "  DeprecationWarning)\n"
     ]
    }
   ],
   "source": [
    "alphas = [0.1, 0.2, 0.5, 0.75, 1.0, 1.3, 1.6, 2.0, 3.0, 5.0]\n",
    "params = {'alpha': alphas}\n",
    "\n",
    "lasso_simple = Lasso() # simple because the features imputation is simple regression. \n",
    "                       # we might want to make some more convoluted feature engineering\n",
    "grid_search_lasso_simple = GridSearchCV(estimator=lasso_simple, param_grid=params, cv=5, scoring='r2')\n",
    "\n",
    "grid_search_lasso_simple.fit(X_train, y_train)\n",
    "best_lasso_simple = grid_search_lasso_simple.best_estimator_\n",
    "y_pred = best_lasso_simple.predict(X_test)\n",
    "\n",
    "regression_model_scores(best_lasso_simple, y_pred=y_pred, y_true=y_test)\n",
    "print(grid_search_lasso_simple.best_params_)"
   ]
  },
  {
   "cell_type": "markdown",
   "metadata": {},
   "source": [
    "The results after imputing the missing values got even worse (slightly worse for the Ridge regression, 0.0411 against 0.0409)"
   ]
  },
  {
   "cell_type": "markdown",
   "metadata": {},
   "source": [
    "#### Random Forest"
   ]
  },
  {
   "cell_type": "code",
   "execution_count": 176,
   "metadata": {},
   "outputs": [
    {
     "name": "stdout",
     "output_type": "stream",
     "text": [
      "square root of mean squared error: 0.0372\n",
      "mean absolute error: 0.0236\n",
      "variance score: 0.7285\n",
      "{'max_depth': 7, 'min_samples_split': 3, 'n_estimators': 150}\n"
     ]
    }
   ],
   "source": [
    "rf = RandomForestRegressor()\n",
    "params = {'n_estimators': [50, 100, 150, 200],\n",
    "          'min_samples_split' : [2, 3],\n",
    "          'max_depth': np.arange(1, 8)\n",
    "}\n",
    "\n",
    "grid_search_rf = GridSearchCV(estimator=rf, cv=5, param_grid=params, scoring='r2')\n",
    "grid_search_rf.fit(X_train, y_train)\n",
    "best_rf = grid_search_rf.best_estimator_\n",
    "y_pred = best_rf.predict(X_test)\n",
    "\n",
    "regression_model_scores(best_rf, y_pred=y_pred, y_true=y_test)\n",
    "print(grid_search_rf.best_params_)"
   ]
  },
  {
   "cell_type": "markdown",
   "metadata": {},
   "source": [
    "Looks better! so far this is the best mse. Let's see which error will random forest show on reduced train set (without car, building area, landsize and yearBuilt)"
   ]
  },
  {
   "cell_type": "code",
   "execution_count": 178,
   "metadata": {},
   "outputs": [
    {
     "name": "stdout",
     "output_type": "stream",
     "text": [
      "square root of mean squared error: 0.0384\n",
      "mean absolute error: 0.0246\n",
      "variance score: 0.7096\n",
      "{'max_depth': 7, 'min_samples_split': 3, 'n_estimators': 200}\n"
     ]
    }
   ],
   "source": [
    "rf = RandomForestRegressor()\n",
    "\n",
    "grid_search_rf = GridSearchCV(estimator=rf, cv=5, param_grid=params, scoring='r2')\n",
    "grid_search_rf.fit(X_train_full, y_train)\n",
    "best_rf = grid_search_rf.best_estimator_\n",
    "y_pred = best_rf.predict(X_test_full)\n",
    "\n",
    "regression_model_scores(best_rf, y_pred=y_pred, y_true=y_test)\n",
    "print(grid_search_rf.best_params_)"
   ]
  },
  {
   "cell_type": "markdown",
   "metadata": {},
   "source": [
    "#### AdaBoost"
   ]
  },
  {
   "cell_type": "code",
   "execution_count": 63,
   "metadata": {},
   "outputs": [],
   "source": [
    "from sklearn.ensemble import AdaBoostRegressor\n",
    "from sklearn.tree import DecisionTreeRegressor"
   ]
  },
  {
   "cell_type": "code",
   "execution_count": 64,
   "metadata": {},
   "outputs": [
    {
     "name": "stdout",
     "output_type": "stream",
     "text": [
      "square root of mean squared error: 0.0614\n",
      "mean absolute error: 0.0489\n",
      "variance score: 0.2564\n",
      "{'base_estimator__criterion': 'mse', 'base_estimator__max_depth': 2, 'learning_rate': 0.5, 'n_estimators': 100}\n"
     ]
    }
   ],
   "source": [
    "dt = DecisionTreeRegressor()\n",
    "params = {'base_estimator__criterion' : ['mse'],\n",
    "          'base_estimator__max_depth' : [1,2],\n",
    "          'n_estimators' : [100, 200],\n",
    "          'learning_rate' : [0.5, 1.0, 2.0]\n",
    "}\n",
    "\n",
    "ab = AdaBoostRegressor(base_estimator=dt)\n",
    "grid_search_ab = GridSearchCV(estimator=ab, param_grid=params, cv=5, scoring='r2')\n",
    "\n",
    "grid_search_ab.fit(X_train, y_train)\n",
    "best_ab = grid_search_ab.best_estimator_\n",
    "y_pred = best_ab.predict(X_test)\n",
    "\n",
    "regression_model_scores(best_ab, y_pred=y_pred, y_true=y_test)\n",
    "print(grid_search_ab.best_params_)"
   ]
  },
  {
   "cell_type": "markdown",
   "metadata": {},
   "source": [
    "#### Gradient Boosting"
   ]
  },
  {
   "cell_type": "code",
   "execution_count": 65,
   "metadata": {},
   "outputs": [],
   "source": [
    "from sklearn.ensemble import GradientBoostingRegressor\n",
    "from sklearn.tree import DecisionTreeRegressor"
   ]
  },
  {
   "cell_type": "code",
   "execution_count": 66,
   "metadata": {},
   "outputs": [
    {
     "name": "stdout",
     "output_type": "stream",
     "text": [
      "square root of mean squared error: 0.0477\n",
      "mean absolute error: 0.0392\n",
      "variance score: 0.3558\n"
     ]
    }
   ],
   "source": [
    "gbr = GradientBoostingRegressor()\n",
    "gbr.fit(X_train, y_train)\n",
    "y_test = gbr.predict(X_test)\n",
    "regression_model_scores(gbr, y_pred=y_pred, y_true=y_test)"
   ]
  },
  {
   "cell_type": "code",
   "execution_count": 70,
   "metadata": {},
   "outputs": [
    {
     "name": "stdout",
     "output_type": "stream",
     "text": [
      "square root of mean squared error: 0.0195\n",
      "mean absolute error: 0.0127\n",
      "variance score: 0.8814\n",
      "{'learning_rate': 0.2, 'max_depth': 3, 'n_estimators': 200}\n"
     ]
    }
   ],
   "source": [
    "gbr = GradientBoostingRegressor()\n",
    "params = {'max_depth' : [1,2, 3],\n",
    "          'n_estimators' : [100, 200],\n",
    "          'learning_rate' : [0.05, 0.1, 0.2]\n",
    "}\n",
    "\n",
    "grid_search_gbr = GridSearchCV(estimator=gbr, param_grid=params, cv=5, scoring='r2')\n",
    "\n",
    "grid_search_gbr.fit(X_train, y_train)\n",
    "best_gbr = grid_search_gbr.best_estimator_\n",
    "y_pred = best_gbr.predict(X_test)\n",
    "\n",
    "regression_model_scores(best_gbr, y_pred=y_pred, y_true=y_test)\n",
    "print(grid_search_gbr.best_params_)"
   ]
  },
  {
   "cell_type": "markdown",
   "metadata": {},
   "source": [
    "The best result so far!"
   ]
  }
 ],
 "metadata": {
  "kernelspec": {
   "display_name": "Python 3",
   "language": "python",
   "name": "python3"
  },
  "language_info": {
   "codemirror_mode": {
    "name": "ipython",
    "version": 3
   },
   "file_extension": ".py",
   "mimetype": "text/x-python",
   "name": "python",
   "nbconvert_exporter": "python",
   "pygments_lexer": "ipython3",
   "version": "3.7.1"
  }
 },
 "nbformat": 4,
 "nbformat_minor": 2
}
